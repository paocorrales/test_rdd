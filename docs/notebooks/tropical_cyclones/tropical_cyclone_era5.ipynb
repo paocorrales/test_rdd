{
 "cells": [
  {
   "cell_type": "markdown",
   "id": "9846ec0b-5c2e-4fb1-9540-ac1c025bafcb",
   "metadata": {},
   "source": [
    "# Tropical cyclone detection using TempestExtremes  \n",
    "The recipe detects and track tropical cyclones using TempestExtremes. Tropical cyclones are identified from mean sea level pressure (MSLP) minima with compact MSLP contours and warm-core structure.\n",
    "\n",
    "**References:**  \n",
    "Ullrich, P.A., C.M. Zarzycki, E.E. McClenny, M.C. Pinheiro, A.M. Stansfield and K.A. Reed (2021) \"TempestExtremes v2.1: A community framework for feature detection, tracking and analysis in large datasets\" Geosci. Model. Dev. 14, pp. 5023–5048. [https://gmd.copernicus.org/articles/14/5023/2021/]\n",
    "\n",
    "Ullrich, P.A. and C.M. Zarzycki (2017) \"TempestExtremes v1.0: A framework for scale-insensitive pointwise feature tracking on unstructured grids\" Geosci. Model. Dev. 10, pp. 1069-1090. [https://gmd.copernicus.org/articles/10/1069/2017/]\n",
    "\n",
    "Zarzycki, C.M. and P.A. Ullrich (2017) \"Assessing sensitivities in algorithmic detection of tropical cyclones in climate data\" Geophys. Res. Lett. 44 (2), pp. 1141-1149. [https://agupubs.onlinelibrary.wiley.com/doi/full/10.1002/2016GL071606]"
   ]
  },
  {
   "cell_type": "markdown",
   "id": "dbecf3b3-1b5e-40bb-b384-e1304e1ea932",
   "metadata": {},
   "source": [
    "<span style=\"color: mediumblue;\">Load python packages</span>"
   ]
  },
  {
   "cell_type": "code",
   "execution_count": 1,
   "id": "a69a6e1a-941a-400f-9fc8-631dd9a3ab91",
   "metadata": {},
   "outputs": [],
   "source": [
    "from datetime import datetime, timedelta\n",
    "import xarray as xr\n",
    "import pandas as pd\n",
    "import numpy as np\n",
    "import sys\n",
    "import os"
   ]
  },
  {
   "cell_type": "markdown",
   "id": "2a750906-a5a9-478a-9573-dd3a197944fa",
   "metadata": {},
   "source": [
    "<span style=\"color: mediumblue;\">Set and load the paths for WxSysLib installed on your local directory (⚠️ you will need to `git clone` the entire WxSysLib to your own directory first)</span>"
   ]
  },
  {
   "cell_type": "code",
   "execution_count": 2,
   "id": "94c398c6-3eda-488d-9798-9b6bf099d7a0",
   "metadata": {},
   "outputs": [],
   "source": [
    "os.environ['WXSYSLIBDIR']='/g/data/gb02/cj0591/WxSysLib' # ⚠️ change to where your WxSysLib is placed\n",
    "sys.path.append(os.environ['WXSYSLIBDIR'])"
   ]
  },
  {
   "cell_type": "markdown",
   "id": "a4328cb7-5781-4345-9c2b-bf448d72f7ee",
   "metadata": {},
   "source": [
    "<span style=\"color: mediumblue;\">Set and load the path for TempestExtremes on `gb02/public/tools/Wx`</span>"
   ]
  },
  {
   "cell_type": "code",
   "execution_count": 3,
   "id": "1dc7c9ec-f3e3-48a7-ba37-c7f7f2b7bd9f",
   "metadata": {},
   "outputs": [],
   "source": [
    "os.environ['TEMPESTEXTREMESDIR']='/g/data/gb02/public/tools/Wx/tempestextremes/bin' # ⚠️ don't change directory here"
   ]
  },
  {
   "cell_type": "markdown",
   "id": "f549decc-b96d-49b0-bfff-178aa2918026",
   "metadata": {},
   "source": [
    "<span style=\"color: mediumblue;\">TempestExtremes allows running using mpi</span>"
   ]
  },
  {
   "cell_type": "code",
   "execution_count": 4,
   "id": "fce0f41c-50ba-4802-a44e-174a16af1d50",
   "metadata": {},
   "outputs": [],
   "source": [
    "from dask.distributed import Client\n",
    "client = Client(n_workers=2)"
   ]
  },
  {
   "cell_type": "markdown",
   "id": "3fb5bfc8-b9d6-467f-a29e-4af08585f6db",
   "metadata": {},
   "source": [
    "<span style=\"color: mediumblue;\">load tempestextremes utils</span>"
   ]
  },
  {
   "cell_type": "code",
   "execution_count": 5,
   "id": "09ecf8fe-6b0b-4310-8810-92f7d4df2f43",
   "metadata": {},
   "outputs": [],
   "source": [
    "from utils.nodes.tempestextremes_utils.node_utils import (\n",
    "run_detectNodes,\n",
    "run_stitchNodes,\n",
    "run_nodeCompose,\n",
    "create_Node_dirstruct,\n",
    "assign_lev)"
   ]
  },
  {
   "cell_type": "markdown",
   "id": "e134ae33-8df2-4b83-880d-546f627f5c55",
   "metadata": {},
   "source": [
    "<span style=\"color: mediumblue;\">load other utils from WxSysLib</span>"
   ]
  },
  {
   "cell_type": "code",
   "execution_count": 6,
   "id": "2702c0df-e5b5-4462-8190-2c99680bbd5f",
   "metadata": {},
   "outputs": [],
   "source": [
    "from utils.general.nci_utils import get_GADI_ERA5_filename\n",
    "from utils.general.date_utils import generate_datetimes_months\n",
    "from utils.general.file_utils import write_to_filelist\n",
    "from utils.plotting.node_plotting import plot_node_tracks"
   ]
  },
  {
   "cell_type": "markdown",
   "id": "fb14e258-4c7d-4d47-ab11-b8c3633c29c4",
   "metadata": {},
   "source": [
    "<span style=\"color: mediumblue;\">Create required directories using `create_Node_dirstruct`</span>  "
   ]
  },
  {
   "cell_type": "code",
   "execution_count": 9,
   "id": "96c72dbd-d3f1-43d1-a2f1-b0ae21770900",
   "metadata": {},
   "outputs": [
    {
     "name": "stdout",
     "output_type": "stream",
     "text": [
      "Directory '/scratch/if69/cj0591/tc_example' already exists.\n",
      "Directory '/scratch/if69/cj0591/tc_example/input' already exists.\n",
      "Directory '/scratch/if69/cj0591/tc_example/detectNodes' already exists.\n",
      "Directory '/scratch/if69/cj0591/tc_example/stitchNodes' already exists.\n",
      "Directory '/scratch/if69/cj0591/tc_example/nodeFileCompose' already exists.\n",
      "Directory '/scratch/if69/cj0591/tc_example/logs' already exists.\n"
     ]
    }
   ],
   "source": [
    "work_dir = '/scratch/if69/cj0591' # ⚠️ change to your own directory\n",
    "casename = 'tc_example'\n",
    "dirs = create_Node_dirstruct(work_dir, casename)\n",
    "casepath = dirs[0]"
   ]
  },
  {
   "cell_type": "markdown",
   "id": "21cc4a7f-9ef5-4e8b-ac63-8f89b78ddd0e",
   "metadata": {},
   "source": [
    "<span style=\"color: mediumblue;\">Let's detect and track tropical cyclones for two-month ERA5 data</span>"
   ]
  },
  {
   "cell_type": "code",
   "execution_count": 10,
   "id": "1ca730ff-86f1-402d-bb4f-95e28420e7b4",
   "metadata": {},
   "outputs": [],
   "source": [
    "std_month = datetime(2023,1,1)\n",
    "end_month = datetime(2023,2,1)\n",
    "months_list = generate_datetimes_months(std_month,end_month)\n",
    "date_id = [dt.strftime('%Y%m') for dt in months_list]"
   ]
  },
  {
   "cell_type": "markdown",
   "id": "92f1770b-b2dc-4f52-9107-30384f4833f6",
   "metadata": {
    "jp-MarkdownHeadingCollapsed": true
   },
   "source": [
    "## <span style=\"color: mediumblue;\">Create input filelist and output filelist</span>  \n",
    "\n",
    "The following variables are required for tropical cyclone detection and tracking.\n",
    "\n",
    "| Variable Name                 | Level                             |\n",
    "|-------------------------------|-----------------------------------|\n",
    "| Elevation (zs)                | Surface                           |\n",
    "| 10-m U-component Wind (u10)   | Surface                           |\n",
    "| 10-m V-component Wind (v10)   | Surface                           |\n",
    "| Mean Sea Level Pressure (msl) | Surface                           |\n",
    "| Geopotential (z)              | 500 hPa, 300 hPa                  |   "
   ]
  },
  {
   "cell_type": "code",
   "execution_count": 11,
   "id": "7b1ffb21-3f88-4791-9f41-f8dc845e7396",
   "metadata": {},
   "outputs": [],
   "source": [
    "# input filelist \n",
    "input_filelist  =f'{casepath}/input/input_files.txt'\n",
    "data_filenames = []\n",
    "for m in months_list:\n",
    "    zsfile   = '/g/data/if69/cj0591/WxSysLib/test_data/zs_era5_oper_sfc_invariant.nc'\n",
    "    zfile    = get_GADI_ERA5_filename('z',  m,stream='hourly',level_type='pressure-levels')\n",
    "    mslfile  = get_GADI_ERA5_filename('msl',m,stream='hourly',level_type=  'single-levels') \n",
    "    u10file  = get_GADI_ERA5_filename('10u',m,stream='hourly',level_type=  'single-levels') \n",
    "    v10file  = get_GADI_ERA5_filename('10v',m,stream='hourly',level_type=  'single-levels')\n",
    "    data_filenames.append(f\"{zfile};{zsfile};{mslfile};{u10file};{v10file}\")\n",
    "write_to_filelist(data_filenames,input_filelist)"
   ]
  },
  {
   "cell_type": "markdown",
   "id": "5401ab11-946a-4e5f-8559-97195c71b98f",
   "metadata": {},
   "source": [
    "<span style=\"color: mediumblue;\">An input filelist contains a list of required ERA5 variable filenames separateed by semicolon</span>"
   ]
  },
  {
   "cell_type": "code",
   "execution_count": 12,
   "id": "594a32ae-994b-4c63-a56d-f5c3fb705ee3",
   "metadata": {},
   "outputs": [
    {
     "name": "stdout",
     "output_type": "stream",
     "text": [
      "/g/data/rt52/era5/pressure-levels/reanalysis/z/2023/z_era5_oper_pl_20230101-20230131.nc;/g/data/if69/cj0591/WxSysLib/test_data/zs_era5_oper_sfc_invariant.nc;/g/data/rt52/era5/single-levels/reanalysis/msl/2023/msl_era5_oper_sfc_20230101-20230131.nc;/g/data/rt52/era5/single-levels/reanalysis/10u/2023/10u_era5_oper_sfc_20230101-20230131.nc;/g/data/rt52/era5/single-levels/reanalysis/10v/2023/10v_era5_oper_sfc_20230101-20230131.nc\n",
      "/g/data/rt52/era5/pressure-levels/reanalysis/z/2023/z_era5_oper_pl_20230201-20230228.nc;/g/data/if69/cj0591/WxSysLib/test_data/zs_era5_oper_sfc_invariant.nc;/g/data/rt52/era5/single-levels/reanalysis/msl/2023/msl_era5_oper_sfc_20230201-20230228.nc;/g/data/rt52/era5/single-levels/reanalysis/10u/2023/10u_era5_oper_sfc_20230201-20230228.nc;/g/data/rt52/era5/single-levels/reanalysis/10v/2023/10v_era5_oper_sfc_20230201-20230228.nc\n"
     ]
    }
   ],
   "source": [
    "!cat $input_filelist"
   ]
  },
  {
   "cell_type": "markdown",
   "id": "85391259-f461-492c-93f5-1a2d6dc2bb47",
   "metadata": {},
   "source": [
    "<span style=\"color: mediumblue;\">An output filelist contains a list of detected nodes</span>"
   ]
  },
  {
   "cell_type": "code",
   "execution_count": 13,
   "id": "98f7e053-87b7-4566-82c9-ae15238cdf4a",
   "metadata": {},
   "outputs": [
    {
     "name": "stdout",
     "output_type": "stream",
     "text": [
      "/scratch/if69/cj0591/tc_example/detectNodes/detectNodes_202301.txt\n",
      "/scratch/if69/cj0591/tc_example/detectNodes/detectNodes_202302.txt\n"
     ]
    }
   ],
   "source": [
    "# output filelist\n",
    "detect_filelist =f'{casepath}/input/output_files.txt'\n",
    "detect_filenames = [f\"{casepath}/detectNodes/detectNodes_{dt}.txt\" for dt in date_id]\n",
    "write_to_filelist(detect_filenames,detect_filelist)\n",
    "\n",
    "!cat $detect_filelist"
   ]
  },
  {
   "cell_type": "markdown",
   "id": "64759031-f90d-4f88-8a69-ee0bf44f55aa",
   "metadata": {},
   "source": [
    "  "
   ]
  },
  {
   "cell_type": "markdown",
   "id": "d32401d4",
   "metadata": {},
   "source": [
    "## <span style=\"color: mediumblue;\">Run detectNode:</span>   \n",
    "`run_detectNodes` is a tool to detect nodes (points) with specific thresholds"
   ]
  },
  {
   "cell_type": "markdown",
   "id": "6afe4075-315e-4f33-b645-a390eb33ac17",
   "metadata": {},
   "source": [
    "`searchby='min'` and `detect_var='msl` - search for msl minimum  \n",
    "\n",
    "`merge_dist=6.0` - merge two detected nodes if they are to closed to each other (6.0 great circle distance)  \n",
    "\n",
    "`bounds=[100, 240, -60, 0]` - a box (lon_min, lon_max, lat_min, lat_max) for where cyclones are identified  \n",
    "\n",
    "**tc_contour_command**   \n",
    "\n",
    "\n",
    "`msl,200.0,5.5,0` - change in msl within 5.5 GCD from the centre is greater than 200 Pa\n",
    "\n",
    "`_DIFF(z(300millibars),z(500millibars)),-58.8,6.5,1.0` - the difference between Z300 and Z500 must decrease by 58.8 m^2/s^2 over a 6.5 GCD, using the maximum value of thie field within 1 GCD as reference. The command ensures a coherent upper-level warm core attached to detected surface msl minimum. \n",
    "\n",
    "\n",
    "\n",
    "**tc_output_command**    \n",
    "\n",
    "`msl,min,0` - output the mimum msl at the detected node   \n",
    "\n",
    "`_VECMAG(u10,v10),max,2.0` - output the maximum magnitude of 10-m wind within 2.0 GCD of the detected node.  \n",
    "\n",
    "`zs,min,0` - output the surface height (elevation) at the detected node"
   ]
  },
  {
   "cell_type": "markdown",
   "id": "2cd47589-41b0-42ad-b026-df472661688e",
   "metadata": {},
   "source": [
    "  "
   ]
  },
  {
   "cell_type": "code",
   "execution_count": 14,
   "id": "7939315d-0877-4e97-85a9-d862fb5e78c5",
   "metadata": {},
   "outputs": [
    {
     "name": "stdout",
     "output_type": "stream",
     "text": [
      "mpirun -np 2 /g/data/gb02/public/tools/Wx/tempestextremes/bin/DetectNodes --in_data_list /scratch/if69/cj0591/tc_example/input/input_files.txt --out_file_list /scratch/if69/cj0591/tc_example/input/output_files.txt --searchbymin \"msl\" --closedcontourcmd \"msl,200.0,5.5,0;_DIFF(z(300millibars),z(500millibars)),-58.8,6.5,1.0\" --mergedist 6.0 --outputcmd \"msl,min,0;_VECMAG(u10,v10),max,2.0;zs,min,0\" --timefilter \"6hr\" --latname latitude --lonname longitude --logdir /scratch/if69/cj0591/tc_example/logs --regional --minlon 100 --maxlon 240 --minlat -60 --maxlat 0\n",
      "Running command ...\n"
     ]
    }
   ],
   "source": [
    "tc_contour_command = (\n",
    "    'msl,200.0,5.5,0;'\n",
    "    '_DIFF(z(300millibars),z(500millibars)),-58.8,6.5,1.0'\n",
    ")\n",
    "\n",
    "tc_output_command  = (\n",
    "    'msl,min,0;'\n",
    "    '_VECMAG(u10,v10),max,2.0;'\n",
    "    'zs,min,0'\n",
    ")\n",
    "\n",
    "run_detectNodes(input_filelist,\n",
    "                detect_filelist,\n",
    "                mpi_np=2,\n",
    "                searchby='min',\n",
    "                detect_var='msl',\n",
    "                merge_dist=6.0,\n",
    "                bounds=[100, 240, -60, 0],\n",
    "                closedcontour_commands=tc_contour_command,\n",
    "                output_commands=tc_output_command,\n",
    "                timeinterval='6hr',\n",
    "                lonname='longitude',\n",
    "                latname='latitude',\n",
    "                logdir=f'{casepath}/logs',\n",
    "                regional=True,\n",
    "                quiet=True,\n",
    "                out_command_only=False\n",
    ")"
   ]
  },
  {
   "cell_type": "markdown",
   "id": "dd8bc2c4-332d-46fc-a758-506e90c39209",
   "metadata": {},
   "source": [
    "## <span style=\"color: mediumblue;\">Run stitch Node:</span>  \n",
    "`run_stitchNodes` is a tool to connect detected nodes in time"
   ]
  },
  {
   "cell_type": "markdown",
   "id": "6f1a3772",
   "metadata": {},
   "source": [
    "`output_filefmt=\"csv\"` - format of the stitchNode output\n",
    "\n",
    "`in_fmt_commands=\"lon,lat,msl,wind,zs\"` - column names of input detectNode file  \n",
    "\n",
    "`range_dist=8.0` - the maximum distance (in GCD) that a node can move between subsequent detections. \n",
    "\n",
    "`minim_time=\"54h\"` - the minimum persistence time of each trajectory (from genesis to termination). \n",
    "\n",
    "`maxgap_time=\"24h\"` - the maximum duration between two sequential detections\n",
    "\n",
    "\n",
    "**tc_stitch_threshold_command**   \n",
    "\n",
    "\n",
    "`wind,>=,10.0,10` - the wind magnitude must be greater than 10 m/s for 10 time steps.   \n",
    "\n",
    "`lat,<=,50.0,10;lat,>=,-50.0,10` - the latitude must be between 50S and 50N for 10 time steps. \n",
    "\n",
    "`zs,<,150.0,10` - the detected node must be below 150 m for 10 time steps "
   ]
  },
  {
   "cell_type": "markdown",
   "id": "beec34f7-6241-433f-966a-22c790138294",
   "metadata": {},
   "source": [
    "  "
   ]
  },
  {
   "cell_type": "code",
   "execution_count": 15,
   "id": "24e34de7-2fe2-4829-970a-f47729629c97",
   "metadata": {},
   "outputs": [
    {
     "name": "stdout",
     "output_type": "stream",
     "text": [
      "mpirun -np 1 /g/data/gb02/public/tools/Wx/tempestextremes/bin/StitchNodes --in_list /scratch/if69/cj0591/tc_example/input/output_files.txt --in_fmt lon,lat,msl,wind,zs --range 8.0 --mintime 54h --maxgap 24h --threshold wind,>=,10.0,10;lat,<=,50.0,10;lat,>=,-50.0,10;zs,<,150.0,10 --min_endpoint_dist 12.0 --out_file_format csv --out /scratch/if69/cj0591/tc_example/stitchNodes/stitchNodes_output.csv\n"
     ]
    }
   ],
   "source": [
    "stitch_file = f'{casepath}/stitchNodes/stitchNodes_output.csv'\n",
    "\n",
    "tc_stitch_threshold_command  = (\n",
    "    'wind,>=,10.0,10;'\n",
    "    'lat,<=,50.0,10;lat,>=,-50.0,10;'\n",
    "    'zs,<,150.0,10'\n",
    ")\n",
    "\n",
    "run_stitchNodes(detect_filelist,\n",
    "                stitch_file,\n",
    "                mpi_np=1,\n",
    "                output_filefmt=\"csv\",\n",
    "                in_fmt_commands=\"lon,lat,msl,wind,zs\",\n",
    "                range_dist=8.0,\n",
    "                minim_time=\"54h\",\n",
    "                maxgap_time=\"24h\",\n",
    "                min_endpoint_dist=12.0,\n",
    "                threshold_condition=tc_stitch_threshold_command,\n",
    "                quiet=True,\n",
    "                out_command_only=False)"
   ]
  },
  {
   "cell_type": "markdown",
   "id": "48ea2560-49c0-400c-9336-604db09e45a5",
   "metadata": {},
   "source": [
    "<span style=\"color: mediumblue;\">Let's have a look at detected tropical cyclones using `plot_node_tracks` function</span>.  "
   ]
  },
  {
   "cell_type": "code",
   "execution_count": 16,
   "id": "2b597a6a-7019-49eb-9d75-17a19d4936ed",
   "metadata": {},
   "outputs": [],
   "source": [
    "stitch_file = f'{casepath}/stitchNodes/stitchNodes_output.csv'\n",
    "df = pd.read_csv(stitch_file, skipinitialspace=True)"
   ]
  },
  {
   "cell_type": "code",
   "execution_count": 17,
   "id": "060eac1e-9f5e-4609-8466-3e99656bf845",
   "metadata": {},
   "outputs": [
    {
     "data": {
      "image/png": "[encoded data removed]",
      "text/plain": [
       "<Figure size 640x480 with 2 Axes>"
      ]
     },
     "metadata": {},
     "output_type": "display_data"
    }
   ],
   "source": [
    "fig = plot_node_tracks(df,'msl', 960_00, 1024_00, 90, 240, -60, 0, 'jet')"
   ]
  },
  {
   "cell_type": "markdown",
   "id": "245235e9-1957-4037-8320-b3726c09a9b7",
   "metadata": {},
   "source": [
    "## <span style=\"color: mediumblue;\">Run nodeCompose:</span>   \n",
    "`run_nodeCompose` is a tool to extract fields centred at nodes along their tracks."
   ]
  },
  {
   "cell_type": "markdown",
   "id": "d9ea21e6",
   "metadata": {},
   "source": [
    "`level_type='pressure-levels'` - level types of ERA5 data (single-levels, pressure-levels, potential-temperature)\n",
    "\n",
    "`grid_type='XY'` - grid type as Cartesian stereographic projection with eastwards X coordinate vector and northwards Y coordinate vector. Grid spacing is equidistant.\n",
    "\n",
    "`variables=['u', 'v']` - list for variables that will be extracted. \n",
    "\n",
    "`dx=0.5` - horizontal grid spacing \n",
    "\n",
    "`resx=21` - number of grid cells in each coordinate direction"
   ]
  },
  {
   "cell_type": "code",
   "execution_count": 18,
   "id": "de4fcfac-b4cf-4060-867c-c1fea2606d7b",
   "metadata": {},
   "outputs": [
    {
     "name": "stdout",
     "output_type": "stream",
     "text": [
      "/g/data/gb02/public/tools/Wx/tempestextremes/bin/NodeFileCompose --in_nodefile /scratch/if69/cj0591/tc_example/stitchNodes/stitchNodes_output.csv --in_nodefile_type SN --in_fmt (auto) --snapshots --in_data_list /scratch/gb02/cj0591/tc_example/nodeFileCompose/inputlist.txt --dx 0.5 --resx 41 --out_grid XY --out_data /scratch/gb02/cj0591/tc_example/nodeFileCompose/snap_exmaple.nc --latname latitude --lonname longitude --var msl --varout msl\n"
     ]
    }
   ],
   "source": [
    "snap_file = f'{casepath}/nodeFileCompose/snap_exmaple.nc'\n",
    "run_nodeCompose(stitch_file,\n",
    "                snap_file,\n",
    "                in_fmt='(auto)',\n",
    "                level_type='single-levels',\n",
    "                grid_type='XY',\n",
    "                variables=['msl'],\n",
    "                lonname=\"longitude\",\n",
    "                latname=\"latitude\",\n",
    "                dx=0.5, resx=41,\n",
    "                quiet=True,\n",
    "                out_command_only=False)"
   ]
  },
  {
   "cell_type": "markdown",
   "id": "5984c4c9-3d23-4186-855e-e30acff006a5",
   "metadata": {},
   "source": [
    "<span style=\"color: mediumblue;\">⚠️Node the extract fields do not have vertical coordinate. `assign_lev` is used to assign vertical coordiante, if needed</span>"
   ]
  },
  {
   "cell_type": "code",
   "execution_count": 19,
   "id": "e1a61ac9-f7d3-4924-866f-511bf2f27668",
   "metadata": {},
   "outputs": [],
   "source": [
    "ds = xr.open_dataset(snap_file)"
   ]
  },
  {
   "cell_type": "markdown",
   "id": "d3bf7255",
   "metadata": {},
   "source": [
    "`snap_pathid` - track id for each trajectory. \n",
    "\n",
    "`snap_time`, `snap_lon` and `snap_lat` - time, longitude, and latitude of each node.  \n",
    "\n",
    "`snap_msl` - extract variables at each detected node.  "
   ]
  },
  {
   "cell_type": "code",
   "execution_count": 20,
   "id": "94337796",
   "metadata": {},
   "outputs": [
    {
     "data": {
      "text/html": [
       "<div><svg style=\"position: absolute; width: 0; height: 0; overflow: hidden\">\n",
       "<defs>\n",
       "<symbol id=\"icon-database\" viewBox=\"0 0 32 32\">\n",
       "<path d=\"M16 0c-8.837 0-16 2.239-16 5v4c0 2.761 7.163 5 16 5s16-2.239 16-5v-4c0-2.761-7.163-5-16-5z\"></path>\n",
       "<path d=\"M16 17c-8.837 0-16-2.239-16-5v6c0 2.761 7.163 5 16 5s16-2.239 16-5v-6c0 2.761-7.163 5-16 5z\"></path>\n",
       "<path d=\"M16 26c-8.837 0-16-2.239-16-5v6c0 2.761 7.163 5 16 5s16-2.239 16-5v-6c0 2.761-7.163 5-16 5z\"></path>\n",
       "</symbol>\n",
       "<symbol id=\"icon-file-text2\" viewBox=\"0 0 32 32\">\n",
       "<path d=\"M28.681 7.159c-0.694-0.947-1.662-2.053-2.724-3.116s-2.169-2.030-3.116-2.724c-1.612-1.182-2.393-1.319-2.841-1.319h-15.5c-1.378 0-2.5 1.121-2.5 2.5v27c0 1.378 1.122 2.5 2.5 2.5h23c1.378 0 2.5-1.122 2.5-2.5v-19.5c0-0.448-0.137-1.23-1.319-2.841zM24.543 5.457c0.959 0.959 1.712 1.825 2.268 2.543h-4.811v-4.811c0.718 0.556 1.584 1.309 2.543 2.268zM28 29.5c0 0.271-0.229 0.5-0.5 0.5h-23c-0.271 0-0.5-0.229-0.5-0.5v-27c0-0.271 0.229-0.5 0.5-0.5 0 0 15.499-0 15.5 0v7c0 0.552 0.448 1 1 1h7v19.5z\"></path>\n",
       "<path d=\"M23 26h-14c-0.552 0-1-0.448-1-1s0.448-1 1-1h14c0.552 0 1 0.448 1 1s-0.448 1-1 1z\"></path>\n",
       "<path d=\"M23 22h-14c-0.552 0-1-0.448-1-1s0.448-1 1-1h14c0.552 0 1 0.448 1 1s-0.448 1-1 1z\"></path>\n",
       "<path d=\"M23 18h-14c-0.552 0-1-0.448-1-1s0.448-1 1-1h14c0.552 0 1 0.448 1 1s-0.448 1-1 1z\"></path>\n",
       "</symbol>\n",
       "</defs>\n",
       "</svg>\n",
       "<style>/* CSS stylesheet for displaying xarray objects in jupyterlab.\n",
       " *\n",
       " */\n",
       "\n",
       ":root {\n",
       "  --xr-font-color0: var(--jp-content-font-color0, rgba(0, 0, 0, 1));\n",
       "  --xr-font-color2: var(--jp-content-font-color2, rgba(0, 0, 0, 0.54));\n",
       "  --xr-font-color3: var(--jp-content-font-color3, rgba(0, 0, 0, 0.38));\n",
       "  --xr-border-color: var(--jp-border-color2, #e0e0e0);\n",
       "  --xr-disabled-color: var(--jp-layout-color3, #bdbdbd);\n",
       "  --xr-background-color: var(--jp-layout-color0, white);\n",
       "  --xr-background-color-row-even: var(--jp-layout-color1, white);\n",
       "  --xr-background-color-row-odd: var(--jp-layout-color2, #eeeeee);\n",
       "}\n",
       "\n",
       "html[theme=\"dark\"],\n",
       "html[data-theme=\"dark\"],\n",
       "body[data-theme=\"dark\"],\n",
       "body.vscode-dark {\n",
       "  --xr-font-color0: rgba(255, 255, 255, 1);\n",
       "  --xr-font-color2: rgba(255, 255, 255, 0.54);\n",
       "  --xr-font-color3: rgba(255, 255, 255, 0.38);\n",
       "  --xr-border-color: #1f1f1f;\n",
       "  --xr-disabled-color: #515151;\n",
       "  --xr-background-color: #111111;\n",
       "  --xr-background-color-row-even: #111111;\n",
       "  --xr-background-color-row-odd: #313131;\n",
       "}\n",
       "\n",
       ".xr-wrap {\n",
       "  display: block !important;\n",
       "  min-width: 300px;\n",
       "  max-width: 700px;\n",
       "}\n",
       "\n",
       ".xr-text-repr-fallback {\n",
       "  /* fallback to plain text repr when CSS is not injected (untrusted notebook) */\n",
       "  display: none;\n",
       "}\n",
       "\n",
       ".xr-header {\n",
       "  padding-top: 6px;\n",
       "  padding-bottom: 6px;\n",
       "  margin-bottom: 4px;\n",
       "  border-bottom: solid 1px var(--xr-border-color);\n",
       "}\n",
       "\n",
       ".xr-header > div,\n",
       ".xr-header > ul {\n",
       "  display: inline;\n",
       "  margin-top: 0;\n",
       "  margin-bottom: 0;\n",
       "}\n",
       "\n",
       ".xr-obj-type,\n",
       ".xr-array-name {\n",
       "  margin-left: 2px;\n",
       "  margin-right: 10px;\n",
       "}\n",
       "\n",
       ".xr-obj-type {\n",
       "  color: var(--xr-font-color2);\n",
       "}\n",
       "\n",
       ".xr-sections {\n",
       "  padding-left: 0 !important;\n",
       "  display: grid;\n",
       "  grid-template-columns: 150px auto auto 1fr 0 20px 0 20px;\n",
       "}\n",
       "\n",
       ".xr-section-item {\n",
       "  display: contents;\n",
       "}\n",
       "\n",
       ".xr-section-item input {\n",
       "  display: inline-block;\n",
       "  opacity: 0;\n",
       "  height: 0;\n",
       "}\n",
       "\n",
       ".xr-section-item input + label {\n",
       "  color: var(--xr-disabled-color);\n",
       "}\n",
       "\n",
       ".xr-section-item input:enabled + label {\n",
       "  cursor: pointer;\n",
       "  color: var(--xr-font-color2);\n",
       "}\n",
       "\n",
       ".xr-section-item input:focus + label {\n",
       "  border: 2px solid var(--xr-font-color0);\n",
       "}\n",
       "\n",
       ".xr-section-item input:enabled + label:hover {\n",
       "  color: var(--xr-font-color0);\n",
       "}\n",
       "\n",
       ".xr-section-summary {\n",
       "  grid-column: 1;\n",
       "  color: var(--xr-font-color2);\n",
       "  font-weight: 500;\n",
       "}\n",
       "\n",
       ".xr-section-summary > span {\n",
       "  display: inline-block;\n",
       "  padding-left: 0.5em;\n",
       "}\n",
       "\n",
       ".xr-section-summary-in:disabled + label {\n",
       "  color: var(--xr-font-color2);\n",
       "}\n",
       "\n",
       ".xr-section-summary-in + label:before {\n",
       "  display: inline-block;\n",
       "  content: \"►\";\n",
       "  font-size: 11px;\n",
       "  width: 15px;\n",
       "  text-align: center;\n",
       "}\n",
       "\n",
       ".xr-section-summary-in:disabled + label:before {\n",
       "  color: var(--xr-disabled-color);\n",
       "}\n",
       "\n",
       ".xr-section-summary-in:checked + label:before {\n",
       "  content: \"▼\";\n",
       "}\n",
       "\n",
       ".xr-section-summary-in:checked + label > span {\n",
       "  display: none;\n",
       "}\n",
       "\n",
       ".xr-section-summary,\n",
       ".xr-section-inline-details {\n",
       "  padding-top: 4px;\n",
       "  padding-bottom: 4px;\n",
       "}\n",
       "\n",
       ".xr-section-inline-details {\n",
       "  grid-column: 2 / -1;\n",
       "}\n",
       "\n",
       ".xr-section-details {\n",
       "  display: none;\n",
       "  grid-column: 1 / -1;\n",
       "  margin-bottom: 5px;\n",
       "}\n",
       "\n",
       ".xr-section-summary-in:checked ~ .xr-section-details {\n",
       "  display: contents;\n",
       "}\n",
       "\n",
       ".xr-array-wrap {\n",
       "  grid-column: 1 / -1;\n",
       "  display: grid;\n",
       "  grid-template-columns: 20px auto;\n",
       "}\n",
       "\n",
       ".xr-array-wrap > label {\n",
       "  grid-column: 1;\n",
       "  vertical-align: top;\n",
       "}\n",
       "\n",
       ".xr-preview {\n",
       "  color: var(--xr-font-color3);\n",
       "}\n",
       "\n",
       ".xr-array-preview,\n",
       ".xr-array-data {\n",
       "  padding: 0 5px !important;\n",
       "  grid-column: 2;\n",
       "}\n",
       "\n",
       ".xr-array-data,\n",
       ".xr-array-in:checked ~ .xr-array-preview {\n",
       "  display: none;\n",
       "}\n",
       "\n",
       ".xr-array-in:checked ~ .xr-array-data,\n",
       ".xr-array-preview {\n",
       "  display: inline-block;\n",
       "}\n",
       "\n",
       ".xr-dim-list {\n",
       "  display: inline-block !important;\n",
       "  list-style: none;\n",
       "  padding: 0 !important;\n",
       "  margin: 0;\n",
       "}\n",
       "\n",
       ".xr-dim-list li {\n",
       "  display: inline-block;\n",
       "  padding: 0;\n",
       "  margin: 0;\n",
       "}\n",
       "\n",
       ".xr-dim-list:before {\n",
       "  content: \"(\";\n",
       "}\n",
       "\n",
       ".xr-dim-list:after {\n",
       "  content: \")\";\n",
       "}\n",
       "\n",
       ".xr-dim-list li:not(:last-child):after {\n",
       "  content: \",\";\n",
       "  padding-right: 5px;\n",
       "}\n",
       "\n",
       ".xr-has-index {\n",
       "  font-weight: bold;\n",
       "}\n",
       "\n",
       ".xr-var-list,\n",
       ".xr-var-item {\n",
       "  display: contents;\n",
       "}\n",
       "\n",
       ".xr-var-item > div,\n",
       ".xr-var-item label,\n",
       ".xr-var-item > .xr-var-name span {\n",
       "  background-color: var(--xr-background-color-row-even);\n",
       "  margin-bottom: 0;\n",
       "}\n",
       "\n",
       ".xr-var-item > .xr-var-name:hover span {\n",
       "  padding-right: 5px;\n",
       "}\n",
       "\n",
       ".xr-var-list > li:nth-child(odd) > div,\n",
       ".xr-var-list > li:nth-child(odd) > label,\n",
       ".xr-var-list > li:nth-child(odd) > .xr-var-name span {\n",
       "  background-color: var(--xr-background-color-row-odd);\n",
       "}\n",
       "\n",
       ".xr-var-name {\n",
       "  grid-column: 1;\n",
       "}\n",
       "\n",
       ".xr-var-dims {\n",
       "  grid-column: 2;\n",
       "}\n",
       "\n",
       ".xr-var-dtype {\n",
       "  grid-column: 3;\n",
       "  text-align: right;\n",
       "  color: var(--xr-font-color2);\n",
       "}\n",
       "\n",
       ".xr-var-preview {\n",
       "  grid-column: 4;\n",
       "}\n",
       "\n",
       ".xr-index-preview {\n",
       "  grid-column: 2 / 5;\n",
       "  color: var(--xr-font-color2);\n",
       "}\n",
       "\n",
       ".xr-var-name,\n",
       ".xr-var-dims,\n",
       ".xr-var-dtype,\n",
       ".xr-preview,\n",
       ".xr-attrs dt {\n",
       "  white-space: nowrap;\n",
       "  overflow: hidden;\n",
       "  text-overflow: ellipsis;\n",
       "  padding-right: 10px;\n",
       "}\n",
       "\n",
       ".xr-var-name:hover,\n",
       ".xr-var-dims:hover,\n",
       ".xr-var-dtype:hover,\n",
       ".xr-attrs dt:hover {\n",
       "  overflow: visible;\n",
       "  width: auto;\n",
       "  z-index: 1;\n",
       "}\n",
       "\n",
       ".xr-var-attrs,\n",
       ".xr-var-data,\n",
       ".xr-index-data {\n",
       "  display: none;\n",
       "  background-color: var(--xr-background-color) !important;\n",
       "  padding-bottom: 5px !important;\n",
       "}\n",
       "\n",
       ".xr-var-attrs-in:checked ~ .xr-var-attrs,\n",
       ".xr-var-data-in:checked ~ .xr-var-data,\n",
       ".xr-index-data-in:checked ~ .xr-index-data {\n",
       "  display: block;\n",
       "}\n",
       "\n",
       ".xr-var-data > table {\n",
       "  float: right;\n",
       "}\n",
       "\n",
       ".xr-var-name span,\n",
       ".xr-var-data,\n",
       ".xr-index-name div,\n",
       ".xr-index-data,\n",
       ".xr-attrs {\n",
       "  padding-left: 25px !important;\n",
       "}\n",
       "\n",
       ".xr-attrs,\n",
       ".xr-var-attrs,\n",
       ".xr-var-data,\n",
       ".xr-index-data {\n",
       "  grid-column: 1 / -1;\n",
       "}\n",
       "\n",
       "dl.xr-attrs {\n",
       "  padding: 0;\n",
       "  margin: 0;\n",
       "  display: grid;\n",
       "  grid-template-columns: 125px auto;\n",
       "}\n",
       "\n",
       ".xr-attrs dt,\n",
       ".xr-attrs dd {\n",
       "  padding: 0;\n",
       "  margin: 0;\n",
       "  float: left;\n",
       "  padding-right: 10px;\n",
       "  width: auto;\n",
       "}\n",
       "\n",
       ".xr-attrs dt {\n",
       "  font-weight: normal;\n",
       "  grid-column: 1;\n",
       "}\n",
       "\n",
       ".xr-attrs dt:hover span {\n",
       "  display: inline-block;\n",
       "  background: var(--xr-background-color);\n",
       "  padding-right: 10px;\n",
       "}\n",
       "\n",
       ".xr-attrs dd {\n",
       "  grid-column: 2;\n",
       "  white-space: pre-wrap;\n",
       "  word-break: break-all;\n",
       "}\n",
       "\n",
       ".xr-icon-database,\n",
       ".xr-icon-file-text2,\n",
       ".xr-no-icon {\n",
       "  display: inline-block;\n",
       "  vertical-align: middle;\n",
       "  width: 1em;\n",
       "  height: 1.5em !important;\n",
       "  stroke-width: 0;\n",
       "  stroke: currentColor;\n",
       "  fill: currentColor;\n",
       "}\n",
       "</style><pre class='xr-text-repr-fallback'>&lt;xarray.Dataset&gt; Size: 710kB\n",
       "Dimensions:      (x: 41, y: 41, snapshot: 104)\n",
       "Coordinates:\n",
       "  * x            (x) float64 328B -10.0 -9.5 -9.0 -8.5 -8.0 ... 8.5 9.0 9.5 10.0\n",
       "  * y            (y) float64 328B -10.0 -9.5 -9.0 -8.5 -8.0 ... 8.5 9.0 9.5 10.0\n",
       "Dimensions without coordinates: snapshot\n",
       "Data variables:\n",
       "    snap_pathid  (snapshot) int32 416B ...\n",
       "    snap_lon     (snapshot) float64 832B ...\n",
       "    snap_lat     (snapshot) float64 832B ...\n",
       "    snap_time    (snapshot) datetime64[ns] 832B ...\n",
       "    snap_msl     (snapshot, y, x) float32 699kB ...\n",
       "    msl          (y, x) float32 7kB ...</pre><div class='xr-wrap' style='display:none'><div class='xr-header'><div class='xr-obj-type'>xarray.Dataset</div></div><ul class='xr-sections'><li class='xr-section-item'><input id='section-e3c28760-dc24-4f76-a056-0f01911bc5d7' class='xr-section-summary-in' type='checkbox' disabled ><label for='section-e3c28760-dc24-4f76-a056-0f01911bc5d7' class='xr-section-summary'  title='Expand/collapse section'>Dimensions:</label><div class='xr-section-inline-details'><ul class='xr-dim-list'><li><span class='xr-has-index'>x</span>: 41</li><li><span class='xr-has-index'>y</span>: 41</li><li><span>snapshot</span>: 104</li></ul></div><div class='xr-section-details'></div></li><li class='xr-section-item'><input id='section-86b4a358-76aa-45ba-89ff-9132f7d9c56f' class='xr-section-summary-in' type='checkbox'  checked><label for='section-86b4a358-76aa-45ba-89ff-9132f7d9c56f' class='xr-section-summary' >Coordinates: <span>(2)</span></label><div class='xr-section-inline-details'></div><div class='xr-section-details'><ul class='xr-var-list'><li class='xr-var-item'><div class='xr-var-name'><span class='xr-has-index'>x</span></div><div class='xr-var-dims'>(x)</div><div class='xr-var-dtype'>float64</div><div class='xr-var-preview xr-preview'>-10.0 -9.5 -9.0 ... 9.0 9.5 10.0</div><input id='attrs-d067199d-22d8-433a-948f-ceef380ec8f7' class='xr-var-attrs-in' type='checkbox' ><label for='attrs-d067199d-22d8-433a-948f-ceef380ec8f7' title='Show/Hide attributes'><svg class='icon xr-icon-file-text2'><use xlink:href='#icon-file-text2'></use></svg></label><input id='data-ef8d7718-a6a3-4230-aecf-9744eec10dbb' class='xr-var-data-in' type='checkbox'><label for='data-ef8d7718-a6a3-4230-aecf-9744eec10dbb' title='Show/Hide data repr'><svg class='icon xr-icon-database'><use xlink:href='#icon-database'></use></svg></label><div class='xr-var-attrs'><dl class='xr-attrs'><dt><span>name :</span></dt><dd>stereographic x coordinate</dd><dt><span>units :</span></dt><dd>degrees_east</dd></dl></div><div class='xr-var-data'><pre>array([-10. ,  -9.5,  -9. ,  -8.5,  -8. ,  -7.5,  -7. ,  -6.5,  -6. ,  -5.5,\n",
       "        -5. ,  -4.5,  -4. ,  -3.5,  -3. ,  -2.5,  -2. ,  -1.5,  -1. ,  -0.5,\n",
       "         0. ,   0.5,   1. ,   1.5,   2. ,   2.5,   3. ,   3.5,   4. ,   4.5,\n",
       "         5. ,   5.5,   6. ,   6.5,   7. ,   7.5,   8. ,   8.5,   9. ,   9.5,\n",
       "        10. ])</pre></div></li><li class='xr-var-item'><div class='xr-var-name'><span class='xr-has-index'>y</span></div><div class='xr-var-dims'>(y)</div><div class='xr-var-dtype'>float64</div><div class='xr-var-preview xr-preview'>-10.0 -9.5 -9.0 ... 9.0 9.5 10.0</div><input id='attrs-e42ca1b4-832c-4601-9e1c-53d3020fe102' class='xr-var-attrs-in' type='checkbox' ><label for='attrs-e42ca1b4-832c-4601-9e1c-53d3020fe102' title='Show/Hide attributes'><svg class='icon xr-icon-file-text2'><use xlink:href='#icon-file-text2'></use></svg></label><input id='data-35cc1b0e-570d-4e10-9062-829a29278012' class='xr-var-data-in' type='checkbox'><label for='data-35cc1b0e-570d-4e10-9062-829a29278012' title='Show/Hide data repr'><svg class='icon xr-icon-database'><use xlink:href='#icon-database'></use></svg></label><div class='xr-var-attrs'><dl class='xr-attrs'><dt><span>name :</span></dt><dd>stereographic y coordinate</dd><dt><span>units :</span></dt><dd>degrees_north</dd></dl></div><div class='xr-var-data'><pre>array([-10. ,  -9.5,  -9. ,  -8.5,  -8. ,  -7.5,  -7. ,  -6.5,  -6. ,  -5.5,\n",
       "        -5. ,  -4.5,  -4. ,  -3.5,  -3. ,  -2.5,  -2. ,  -1.5,  -1. ,  -0.5,\n",
       "         0. ,   0.5,   1. ,   1.5,   2. ,   2.5,   3. ,   3.5,   4. ,   4.5,\n",
       "         5. ,   5.5,   6. ,   6.5,   7. ,   7.5,   8. ,   8.5,   9. ,   9.5,\n",
       "        10. ])</pre></div></li></ul></div></li><li class='xr-section-item'><input id='section-f6ba7789-8a2e-4452-ba23-6d07c4e5ec75' class='xr-section-summary-in' type='checkbox'  checked><label for='section-f6ba7789-8a2e-4452-ba23-6d07c4e5ec75' class='xr-section-summary' >Data variables: <span>(6)</span></label><div class='xr-section-inline-details'></div><div class='xr-section-details'><ul class='xr-var-list'><li class='xr-var-item'><div class='xr-var-name'><span>snap_pathid</span></div><div class='xr-var-dims'>(snapshot)</div><div class='xr-var-dtype'>int32</div><div class='xr-var-preview xr-preview'>...</div><input id='attrs-5d65f3f1-a050-4754-b5b3-7c8e3158e4c5' class='xr-var-attrs-in' type='checkbox' disabled><label for='attrs-5d65f3f1-a050-4754-b5b3-7c8e3158e4c5' title='Show/Hide attributes'><svg class='icon xr-icon-file-text2'><use xlink:href='#icon-file-text2'></use></svg></label><input id='data-02753e6c-75ed-4da0-8e83-1a5a263eb31d' class='xr-var-data-in' type='checkbox'><label for='data-02753e6c-75ed-4da0-8e83-1a5a263eb31d' title='Show/Hide data repr'><svg class='icon xr-icon-database'><use xlink:href='#icon-database'></use></svg></label><div class='xr-var-attrs'><dl class='xr-attrs'></dl></div><div class='xr-var-data'><pre>[104 values with dtype=int32]</pre></div></li><li class='xr-var-item'><div class='xr-var-name'><span>snap_lon</span></div><div class='xr-var-dims'>(snapshot)</div><div class='xr-var-dtype'>float64</div><div class='xr-var-preview xr-preview'>...</div><input id='attrs-27745990-2ede-4e8e-828f-f574a03a86c4' class='xr-var-attrs-in' type='checkbox' ><label for='attrs-27745990-2ede-4e8e-828f-f574a03a86c4' title='Show/Hide attributes'><svg class='icon xr-icon-file-text2'><use xlink:href='#icon-file-text2'></use></svg></label><input id='data-f3a241cd-3586-4cc7-aba9-e7fc68f580c5' class='xr-var-data-in' type='checkbox'><label for='data-f3a241cd-3586-4cc7-aba9-e7fc68f580c5' title='Show/Hide data repr'><svg class='icon xr-icon-database'><use xlink:href='#icon-database'></use></svg></label><div class='xr-var-attrs'><dl class='xr-attrs'><dt><span>units :</span></dt><dd>degrees_east</dd></dl></div><div class='xr-var-data'><pre>[104 values with dtype=float64]</pre></div></li><li class='xr-var-item'><div class='xr-var-name'><span>snap_lat</span></div><div class='xr-var-dims'>(snapshot)</div><div class='xr-var-dtype'>float64</div><div class='xr-var-preview xr-preview'>...</div><input id='attrs-5cd733f0-075a-49d1-a821-ba2536da6e56' class='xr-var-attrs-in' type='checkbox' ><label for='attrs-5cd733f0-075a-49d1-a821-ba2536da6e56' title='Show/Hide attributes'><svg class='icon xr-icon-file-text2'><use xlink:href='#icon-file-text2'></use></svg></label><input id='data-0b06b525-ee22-47f9-ae53-34ee962d4410' class='xr-var-data-in' type='checkbox'><label for='data-0b06b525-ee22-47f9-ae53-34ee962d4410' title='Show/Hide data repr'><svg class='icon xr-icon-database'><use xlink:href='#icon-database'></use></svg></label><div class='xr-var-attrs'><dl class='xr-attrs'><dt><span>units :</span></dt><dd>degrees_north</dd></dl></div><div class='xr-var-data'><pre>[104 values with dtype=float64]</pre></div></li><li class='xr-var-item'><div class='xr-var-name'><span>snap_time</span></div><div class='xr-var-dims'>(snapshot)</div><div class='xr-var-dtype'>datetime64[ns]</div><div class='xr-var-preview xr-preview'>...</div><input id='attrs-5b3c626e-6d45-493b-a725-c55d44280990' class='xr-var-attrs-in' type='checkbox' disabled><label for='attrs-5b3c626e-6d45-493b-a725-c55d44280990' title='Show/Hide attributes'><svg class='icon xr-icon-file-text2'><use xlink:href='#icon-file-text2'></use></svg></label><input id='data-3d9f9411-0d8c-4d81-9571-db3b66f9500e' class='xr-var-data-in' type='checkbox'><label for='data-3d9f9411-0d8c-4d81-9571-db3b66f9500e' title='Show/Hide data repr'><svg class='icon xr-icon-database'><use xlink:href='#icon-database'></use></svg></label><div class='xr-var-attrs'><dl class='xr-attrs'></dl></div><div class='xr-var-data'><pre>[104 values with dtype=datetime64[ns]]</pre></div></li><li class='xr-var-item'><div class='xr-var-name'><span>snap_msl</span></div><div class='xr-var-dims'>(snapshot, y, x)</div><div class='xr-var-dtype'>float32</div><div class='xr-var-preview xr-preview'>...</div><input id='attrs-e48a58c1-7ad3-4ccc-a1b2-f3fa49ea9ca9' class='xr-var-attrs-in' type='checkbox' disabled><label for='attrs-e48a58c1-7ad3-4ccc-a1b2-f3fa49ea9ca9' title='Show/Hide attributes'><svg class='icon xr-icon-file-text2'><use xlink:href='#icon-file-text2'></use></svg></label><input id='data-80224f2e-e6a0-499a-b98a-ff973027dded' class='xr-var-data-in' type='checkbox'><label for='data-80224f2e-e6a0-499a-b98a-ff973027dded' title='Show/Hide data repr'><svg class='icon xr-icon-database'><use xlink:href='#icon-database'></use></svg></label><div class='xr-var-attrs'><dl class='xr-attrs'></dl></div><div class='xr-var-data'><pre>[174824 values with dtype=float32]</pre></div></li><li class='xr-var-item'><div class='xr-var-name'><span>msl</span></div><div class='xr-var-dims'>(y, x)</div><div class='xr-var-dtype'>float32</div><div class='xr-var-preview xr-preview'>...</div><input id='attrs-4584c650-c689-4e14-b8ce-90f77d580440' class='xr-var-attrs-in' type='checkbox' disabled><label for='attrs-4584c650-c689-4e14-b8ce-90f77d580440' title='Show/Hide attributes'><svg class='icon xr-icon-file-text2'><use xlink:href='#icon-file-text2'></use></svg></label><input id='data-1d266eb3-e848-4511-a28c-1449476638ca' class='xr-var-data-in' type='checkbox'><label for='data-1d266eb3-e848-4511-a28c-1449476638ca' title='Show/Hide data repr'><svg class='icon xr-icon-database'><use xlink:href='#icon-database'></use></svg></label><div class='xr-var-attrs'><dl class='xr-attrs'></dl></div><div class='xr-var-data'><pre>[1681 values with dtype=float32]</pre></div></li></ul></div></li><li class='xr-section-item'><input id='section-183664dc-440e-42c3-93b7-07b9823d306c' class='xr-section-summary-in' type='checkbox'  ><label for='section-183664dc-440e-42c3-93b7-07b9823d306c' class='xr-section-summary' >Indexes: <span>(2)</span></label><div class='xr-section-inline-details'></div><div class='xr-section-details'><ul class='xr-var-list'><li class='xr-var-item'><div class='xr-index-name'><div>x</div></div><div class='xr-index-preview'>PandasIndex</div><input type='checkbox' disabled/><label></label><input id='index-07b531e3-4e65-4d48-858a-53d53897beb9' class='xr-index-data-in' type='checkbox'/><label for='index-07b531e3-4e65-4d48-858a-53d53897beb9' title='Show/Hide index repr'><svg class='icon xr-icon-database'><use xlink:href='#icon-database'></use></svg></label><div class='xr-index-data'><pre>PandasIndex(Index([-10.0,  -9.5,  -9.0,  -8.5,  -8.0,  -7.5,  -7.0,  -6.5,  -6.0,  -5.5,\n",
       "        -5.0,  -4.5,  -4.0,  -3.5,  -3.0,  -2.5,  -2.0,  -1.5,  -1.0,  -0.5,\n",
       "         0.0,   0.5,   1.0,   1.5,   2.0,   2.5,   3.0,   3.5,   4.0,   4.5,\n",
       "         5.0,   5.5,   6.0,   6.5,   7.0,   7.5,   8.0,   8.5,   9.0,   9.5,\n",
       "        10.0],\n",
       "      dtype=&#x27;float64&#x27;, name=&#x27;x&#x27;))</pre></div></li><li class='xr-var-item'><div class='xr-index-name'><div>y</div></div><div class='xr-index-preview'>PandasIndex</div><input type='checkbox' disabled/><label></label><input id='index-1c313978-0a93-4b1b-b5bb-4447c80f2525' class='xr-index-data-in' type='checkbox'/><label for='index-1c313978-0a93-4b1b-b5bb-4447c80f2525' title='Show/Hide index repr'><svg class='icon xr-icon-database'><use xlink:href='#icon-database'></use></svg></label><div class='xr-index-data'><pre>PandasIndex(Index([-10.0,  -9.5,  -9.0,  -8.5,  -8.0,  -7.5,  -7.0,  -6.5,  -6.0,  -5.5,\n",
       "        -5.0,  -4.5,  -4.0,  -3.5,  -3.0,  -2.5,  -2.0,  -1.5,  -1.0,  -0.5,\n",
       "         0.0,   0.5,   1.0,   1.5,   2.0,   2.5,   3.0,   3.5,   4.0,   4.5,\n",
       "         5.0,   5.5,   6.0,   6.5,   7.0,   7.5,   8.0,   8.5,   9.0,   9.5,\n",
       "        10.0],\n",
       "      dtype=&#x27;float64&#x27;, name=&#x27;y&#x27;))</pre></div></li></ul></div></li><li class='xr-section-item'><input id='section-184478b9-14bd-4e0f-907b-4aac351afc23' class='xr-section-summary-in' type='checkbox' disabled ><label for='section-184478b9-14bd-4e0f-907b-4aac351afc23' class='xr-section-summary'  title='Expand/collapse section'>Attributes: <span>(0)</span></label><div class='xr-section-inline-details'></div><div class='xr-section-details'><dl class='xr-attrs'></dl></div></li></ul></div></div>"
      ],
      "text/plain": [
       "<xarray.Dataset> Size: 710kB\n",
       "Dimensions:      (x: 41, y: 41, snapshot: 104)\n",
       "Coordinates:\n",
       "  * x            (x) float64 328B -10.0 -9.5 -9.0 -8.5 -8.0 ... 8.5 9.0 9.5 10.0\n",
       "  * y            (y) float64 328B -10.0 -9.5 -9.0 -8.5 -8.0 ... 8.5 9.0 9.5 10.0\n",
       "Dimensions without coordinates: snapshot\n",
       "Data variables:\n",
       "    snap_pathid  (snapshot) int32 416B ...\n",
       "    snap_lon     (snapshot) float64 832B ...\n",
       "    snap_lat     (snapshot) float64 832B ...\n",
       "    snap_time    (snapshot) datetime64[ns] 832B ...\n",
       "    snap_msl     (snapshot, y, x) float32 699kB ...\n",
       "    msl          (y, x) float32 7kB ..."
      ]
     },
     "execution_count": 20,
     "metadata": {},
     "output_type": "execute_result"
    }
   ],
   "source": [
    "ds"
   ]
  },
  {
   "cell_type": "markdown",
   "id": "f5ad0b51",
   "metadata": {},
   "source": [
    "<span style=\"color: mediumblue;\">Let's have a look at one track</span>"
   ]
  },
  {
   "cell_type": "code",
   "execution_count": 21,
   "id": "227ea1c0-c275-4367-ace0-0b4d8e45311d",
   "metadata": {},
   "outputs": [],
   "source": [
    "ds_track = ds.where(ds.snap_pathid==3,drop=True)\n",
    "df_track = df[df.track_id==3].reset_index(drop=True)"
   ]
  },
  {
   "cell_type": "code",
   "execution_count": 22,
   "id": "580c9ddc",
   "metadata": {},
   "outputs": [
    {
     "data": {
      "image/png": "[encoded data removed]",
      "text/plain": [
       "<Figure size 640x480 with 2 Axes>"
      ]
     },
     "metadata": {},
     "output_type": "display_data"
    }
   ],
   "source": [
    "fig = plot_node_tracks(df_track,'msl', 960_00, 1024_00, 90, 240, -60, 0, 'jet')"
   ]
  },
  {
   "cell_type": "markdown",
   "id": "bbfebe54",
   "metadata": {},
   "source": [
    "<span style=\"color: mediumblue;\">MSLP field</span>"
   ]
  },
  {
   "cell_type": "code",
   "execution_count": 23,
   "id": "eb3c51a0",
   "metadata": {},
   "outputs": [],
   "source": [
    "idx_minmsl = df_track['msl'].idxmin()"
   ]
  },
  {
   "cell_type": "code",
   "execution_count": 24,
   "id": "b5eaf7f0",
   "metadata": {},
   "outputs": [
    {
     "data": {
      "text/plain": [
       "<matplotlib.collections.QuadMesh at 0x1548b0ddfb90>"
      ]
     },
     "execution_count": 24,
     "metadata": {},
     "output_type": "execute_result"
    },
    {
     "data": {
      "image/png": "[encoded data removed]",
      "text/plain": [
       "<Figure size 640x480 with 2 Axes>"
      ]
     },
     "metadata": {},
     "output_type": "display_data"
    }
   ],
   "source": [
    "ds_track['snap_msl'].sel(snapshot=idx_minmsl).plot()"
   ]
  }
 ],
 "metadata": {
  "kernelspec": {
   "display_name": "Python 3",
   "language": "python",
   "name": "python3"
  },
  "language_info": {
   "codemirror_mode": {
    "name": "ipython",
    "version": 3
   },
   "file_extension": ".py",
   "mimetype": "text/x-python",
   "name": "python",
   "nbconvert_exporter": "python",
   "pygments_lexer": "ipython3",
   "version": "3.11.13"
  }
 },
 "nbformat": 4,
 "nbformat_minor": 5
}
