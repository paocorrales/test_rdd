{
 "cells": [
  {
   "cell_type": "markdown",
   "id": "7f251b54-c9e5-453e-997a-97b913ccf867",
   "metadata": {},
   "source": [
    "# Detect and track Rossby wave breaking by overturned potential-temperature contours on the dynamical tropopause"
   ]
  },
  {
   "cell_type": "markdown",
   "id": "75881369-e9bb-4b76-8c0a-6a8e4784753b",
   "metadata": {},
   "source": [
    "This recipe identifies and tracks overturning contours as a proxy for Rossby wave breaking. It smooths and identifies potential temperature overturned contours on the dynamical tropopause (2 PVU surface) at 5K intervals and tracks them by looking for zones which overlap. It can easily be tweaked to track potential vorticity on isentropic surfaces as in Barnes et. al. (2025)"
   ]
  },
  {
   "cell_type": "markdown",
   "id": "6fdd5bbd-d760-42cf-9ccb-9da64c0950fd",
   "metadata": {},
   "source": [
    "References:<br>\n",
    "Code based on and adapted from: Kaderli, S., 2023. WaveBreaking - Detection, Classification and Tracking of Rossby Wave Breaking. https://doi.org/10.5281/zenodo.14214463<br>\n",
    "Used in: Barnes, M. A., M. J. Reeder, and T. Ndarana, 2025: Rossby wave breaking morphologies on the Southern Hemisphere dynamical tropopause. J. Climate, https://doi.org/10.1175/JCLI-D-24-0461.1, in press."
   ]
  },
  {
   "cell_type": "markdown",
   "id": "d3430f48-fb02-4136-8465-2a8fb80823b0",
   "metadata": {},
   "source": [
    "Load the python functions required for data handling"
   ]
  },
  {
   "cell_type": "code",
   "execution_count": 1,
   "id": "dc2f2df7-0b74-40ed-b867-452528429e49",
   "metadata": {},
   "outputs": [],
   "source": [
    "import os\n",
    "import sys\n",
    "from datetime import datetime, timedelta\n",
    "from dateutil.relativedelta import relativedelta\n",
    "import numpy as np\n",
    "import xarray as xr\n",
    "import pandas as pd\n",
    "import geopandas as gpd\n",
    "import subprocess\n",
    "from tqdm import tqdm\n",
    "from windspharm.xarray import VectorWind"
   ]
  },
  {
   "cell_type": "markdown",
   "id": "3bf1e91f-2e3c-4f20-8895-0c6b80014027",
   "metadata": {},
   "source": [
    "Set and load the paths for your local WxSysLib installation."
   ]
  },
  {
   "cell_type": "code",
   "execution_count": 2,
   "id": "74a5f90d-aedc-4e7a-858f-af1aa2f5e958",
   "metadata": {},
   "outputs": [],
   "source": [
    "os.environ[\"WXSYSLIBDIR\"]='/g/data/gb02/mb0427/WxSysLib'\n",
    "sys.path.append(os.environ[\"WXSYSLIBDIR\"])"
   ]
  },
  {
   "cell_type": "markdown",
   "id": "baebb652-7339-4178-9854-4fc70df230dc",
   "metadata": {},
   "source": [
    "Set and load the Rossby wave breaking modules within WxSysLib"
   ]
  },
  {
   "cell_type": "code",
   "execution_count": 3,
   "id": "8147ffa2-3931-409a-8741-0f341029aea8",
   "metadata": {},
   "outputs": [],
   "source": [
    "os.environ[\"RWBLIBDIR\"]=f'{os.environ[\"WXSYSLIBDIR\"]}/utils/blobs/WaveBreaking'\n",
    "sys.path.append(os.environ[\"RWBLIBDIR\"])"
   ]
  },
  {
   "cell_type": "markdown",
   "id": "9f8fde8d-aec4-4e64-9e40-15059e69b147",
   "metadata": {},
   "source": [
    "Import all the required WxSysLib functions (see WxSysLib documentation for details)"
   ]
  },
  {
   "cell_type": "code",
   "execution_count": 4,
   "id": "4b82e698-99dd-4900-82b8-69c7b143c96e",
   "metadata": {},
   "outputs": [],
   "source": [
    "from utils.general.nci_utils import get_GADI_ERA5_filename\n",
    "from utils.general.date_utils import generate_datetimes,generate_datetimes_months\n",
    "\n",
    "from wavebreaking.processing.events import to_xarray, track_events\n",
    "from wavebreaking.indices.contour_index import calculate_contours\n",
    "from wavebreaking.indices.overturning_index import calculate_overturnings\n",
    "from wavebreaking.additional_utils import process_to_geojson"
   ]
  },
  {
   "cell_type": "code",
   "execution_count": 5,
   "id": "5785cf62-c723-433e-8160-87fd2f87bda6",
   "metadata": {},
   "outputs": [
    {
     "name": "stdout",
     "output_type": "stream",
     "text": [
      "\n",
      "    Identify overturning structures based on the Overturning Index\n",
      "    developed by Barnes and Hartmann (2012).\n",
      "    The default parameters for the overturning identification\n",
      "    are based on the study by Barnes and Hartmann (2012).\n",
      "    The overturning region is represented by a rectangle\n",
      "    enclosing all overturning contour points.\n",
      "    Dimension names (\"time_name\", \"lon_name\", \"lat_name\"), size (\"ntime\", \"nlon\", \"nlat\")\n",
      "    and resolution (\"dlon\", \"dlat\") can be passed as key=value argument.\n",
      "    Before the index calculation, the contour lines are calculated if not provided.\n",
      "\n",
      "    Parameters\n",
      "    ----------\n",
      "        data : xarray.DataArray\n",
      "            data for the contour and overturning calculation\n",
      "        contour_levels : array_like\n",
      "            levels for contour calculation\n",
      "        contours : geopandas.GeoDataFrame, optional\n",
      "            contours calculated with wavebreaking.calculate_contours(...,\n",
      "            original_coordinates=False)\n",
      "        range_group : int or float, optional\n",
      "            Maximal degrees in the longitudinal direction in which two overturning are grouped\n",
      "        min_exp : int or float, optional\n",
      "            Minimal longitudinal expansion of an overturning event\n",
      "        intensity : xarray.DataArray, optional\n",
      "            data for the intensity calculation (hint: use wb_spatial.calculate_momentum_flux)\n",
      "        periodic_add: int or float, optional\n",
      "            number of longitudes in degrees to expand the dataset\n",
      "            to correctly capture undulations at the date border\n",
      "            if the input field is not periodic, use periodic_add = 0\n",
      "\n",
      "    Returns\n",
      "    -------\n",
      "        overturnings: geopandas.GeoDataFrame\n",
      "            GeoDataFrame containing different characteristics of the overturning events:\n",
      "                * \"date\": date of the overturning\n",
      "                * \"level\": level of the contour line\n",
      "                * \"com\": center of mass in the format (x,y)\n",
      "                * \"mean_var\": mean of the variable used for the overturning calculations\n",
      "                * \"event_area\": area of a overturning event;\n",
      "                * \"intensity\": sum of the intensity (momentum flux)\n",
      "                * \"orientation\": orientation of the most west- and eastward point\n",
      "                * \"geometry\": (Multi)Polygon with coordinates in the format (x,y)\n",
      "    \n"
     ]
    }
   ],
   "source": [
    "print(calculate_overturnings.__doc__)"
   ]
  },
  {
   "cell_type": "markdown",
   "id": "c887af96-3897-44e0-a442-57e4f7215e7a",
   "metadata": {},
   "source": [
    "Local settings \n",
    "\n",
    "sdt = starting month from ERA5 archive | default: datetime(1980,1,1)<br>\n",
    "edt = starting month from ERA5 archive | default: datetime(1980,2,1)<br>\n",
    "outpath = local path to write out output<br>\n",
    "Tnum = Wave number to spectral truncation (required for smoothing data) | default: 21<br>\n",
    "contour_levels = Contours to detect overturning on<br>\n",
    "track_overlap_p = Percentage overlap to join objects in time | default: 25\n"
   ]
  },
  {
   "cell_type": "code",
   "execution_count": 5,
   "id": "aad0a52f-2474-4302-af52-9bdb9560e408",
   "metadata": {},
   "outputs": [],
   "source": [
    "sdt=datetime(1980,1,1)\n",
    "edt=datetime(1980,2,1)\n",
    "outpath='/scratch/if69/mb0427/RWB/test'\n",
    "Tnum = 21\n",
    "contour_levels=list(range(330,335,5))\n",
    "track_overlap_p=25"
   ]
  },
  {
   "cell_type": "markdown",
   "id": "cc209a2e-c6ac-4b1c-a79b-c4c6f34db295",
   "metadata": {},
   "source": [
    "Load the ERA5 data required and smooth by spectral truncation. NOTE: If you are using the GADI ERA5 archive, you must a be a member of uc16<br>\n",
    "Find the defined contours and detect overturning zones. Write the output to a geojson file"
   ]
  },
  {
   "cell_type": "code",
   "execution_count": 6,
   "id": "00b42841-a4dd-4811-9f1a-6b64a3c51ecf",
   "metadata": {},
   "outputs": [
    {
     "name": "stdout",
     "output_type": "stream",
     "text": [
      "Calculating overturning for 198001\n"
     ]
    },
    {
     "name": "stderr",
     "output_type": "stream",
     "text": [
      "INFO: HTTP Request: GET https://raw.githubusercontent.com/IrishMarineInstitute/awesome-erddap/master/erddaps.json \"HTTP/1.1 200 OK\"\n",
      "100%|██████████| 124/124 [07:15<00:00,  3.51s/it]\n",
      "Calculating contours    : 100%|██████████| 124/124 [01:41<00:00,  1.23it/s]\n",
      "Calculating overturnings: 100%|██████████| 248/248 [00:02<00:00, 88.29it/s] \n",
      "INFO: Created 239 records\n"
     ]
    },
    {
     "name": "stdout",
     "output_type": "stream",
     "text": [
      "Calculating overturning for 198002\n"
     ]
    },
    {
     "name": "stderr",
     "output_type": "stream",
     "text": [
      "100%|██████████| 116/116 [06:43<00:00,  3.48s/it]\n",
      "Calculating contours    : 100%|██████████| 116/116 [01:25<00:00,  1.36it/s]\n",
      "Calculating overturnings: 100%|██████████| 232/232 [00:02<00:00, 95.38it/s] \n",
      "INFO: Created 198 records\n"
     ]
    }
   ],
   "source": [
    "first=True\n",
    "for indt in generate_datetimes_months(sdt,edt,interval=1):\n",
    "    indtstr=indt.strftime('%Y%m')\n",
    "    print(f'Calculating overturning for {indtstr}')\n",
    "    \n",
    "    #Get the path for the ERA5 isentropic PV file on GADI\n",
    "    ptfile=get_GADI_ERA5_filename('pt',indt,stream='hourly',level_type='potential-vorticity')\n",
    "    ufile=get_GADI_ERA5_filename('u',indt,stream='hourly',level_type='potential-vorticity')\n",
    "    vfile=get_GADI_ERA5_filename('v',indt,stream='hourly',level_type='potential-vorticity')\n",
    "\n",
    "    #Resample the data to 6 hourly\n",
    "    f_pt=xr.open_dataset(ptfile).resample(time='6H').nearest()#.isel(time=slice(0,5))\n",
    "    f_u=xr.open_dataset(ufile).resample(time='6H').nearest()#.isel(time=slice(0,5))\n",
    "    f_v=xr.open_dataset(vfile).resample(time='6H').nearest()#.isel(time=slice(0,5))\n",
    "\n",
    "    #Smooth the data by spectral truncation\n",
    "    all_pt_smooth=[]\n",
    "    for t in tqdm(f_pt.time):\n",
    "        VW = VectorWind(f_u.sel(time=t).u, f_v.sel(time=t).v,legfunc='computed')\n",
    "        pt_smooth = VW.truncate(f_pt.sel(time=t).pt.expand_dims('time'), truncation=Tnum)\n",
    "        all_pt_smooth.extend(pt_smooth)\n",
    "    pt_smooth = xr.concat(all_pt_smooth, dim='time')\n",
    "\n",
    "    #Retrieve the contours needed to check for overturning\n",
    "    contours = calculate_contours(data=pt_smooth,\n",
    "                                     contour_levels=contour_levels,\n",
    "                                     periodic_add=120, # Add additional longitude band onto a periodic boundary\n",
    "                                     original_coordinates=False) # optional\n",
    "\n",
    "    #Check for overturnings [use print(calculate_overturnings.__doc__) for details]\n",
    "    overturnings = calculate_overturnings(data=pt_smooth,\n",
    "                                             contour_levels=contour_levels,\n",
    "                                             contours=contours, #Precalculated contour object calculated by calculate_contours\n",
    "                                             range_group=5, #Maximal degrees in the longitudinal direction in which two overturning are grouped\n",
    "                                             min_exp=5, # Minimal longitudinal expansion of an overturning event\n",
    "                                             periodic_add=120) # Add additional longitude band onto a periodic boundary\n",
    "\n",
    "    #Save the output to a geojson file\n",
    "    outfile=f'{outpath}/ERA5_2PVU_overturnings_6hrly_{indtstr}.geojson'\n",
    "    process_to_geojson(overturnings,colnames=['com']).to_file(outfile, driver='GeoJSON')"
   ]
  },
  {
   "cell_type": "markdown",
   "id": "9ca98002-235e-44fb-8f43-64dda52e7d34",
   "metadata": {},
   "source": [
    "Load all the required overturnings from the geojson files and concatenate them into a single dataframe."
   ]
  },
  {
   "cell_type": "code",
   "execution_count": 7,
   "id": "cb76220d-780e-496e-8ead-f31317bb9533",
   "metadata": {},
   "outputs": [],
   "source": [
    "concatenated_df=[]\n",
    "for indt in generate_datetimes_months(sdt,edt,interval=1):\n",
    "    indtstr=indt.strftime('%Y%m')\n",
    "    \n",
    "    infile = f'{outpath}/ERA5_2PVU_overturnings_6hrly_{indtstr}.geojson'\n",
    "    indf = gpd.read_file(infile)\n",
    "    if not indf.empty: \n",
    "        concatenated_df.append(indf)\n",
    "\n",
    "concatenated_df = pd.concat(concatenated_df, ignore_index=True)"
   ]
  },
  {
   "cell_type": "markdown",
   "id": "4ce2363b-c296-43ff-bdb0-006798ed0bf2",
   "metadata": {},
   "source": [
    "Track the overturning zones on each specified contour level by overlap and write the output to a geojson file"
   ]
  },
  {
   "cell_type": "code",
   "execution_count": 8,
   "id": "7a3731f7-da41-41f4-a468-2a5632d88a27",
   "metadata": {},
   "outputs": [
    {
     "name": "stderr",
     "output_type": "stream",
     "text": [
      "100%|██████████| 437/437 [00:00<00:00, 29277.39it/s]\n"
     ]
    },
    {
     "name": "stdout",
     "output_type": "stream",
     "text": [
      "Overlaps\n"
     ]
    },
    {
     "name": "stderr",
     "output_type": "stream",
     "text": [
      "Checking overlaps: 100%|██████████| 1/1 [00:00<00:00,  2.07it/s]\n",
      "Indexing sets: 100%|██████████| 285/285 [00:00<00:00, 604641.70it/s]\n",
      "Unioning sets:   0%|          | 0/285 [00:00<?, ?it/s]\n",
      "Merging groups: 100%|██████████| 361/361 [00:00<00:00, 1356759.63it/s]\n",
      "\n",
      "Unioning sets:   0%|          | 0/285 [00:00<?, ?it/s]]\u001b[A\n",
      "Building output: 100%|██████████| 76/76 [00:00<00:00, 43505.81it/s]\n",
      "Assign labels: 100%|██████████| 76/76 [00:00<00:00, 2262.44it/s]\n",
      "INFO: Created 437 records\n"
     ]
    },
    {
     "name": "stdout",
     "output_type": "stream",
     "text": [
      "Smallest label....\n"
     ]
    }
   ],
   "source": [
    "#Use print(track_events.__doc__) for details\n",
    "for contour_level in contour_levels:\n",
    "    tracked = track_events(events=concatenated_df[concatenated_df.level==contour_level],\n",
    "                                    time_range=6, #time range for temporal tracking in hours\n",
    "                                    method=\"by_overlap\", #method for tracking [\"by_overlap\", \"by_distance\"]\n",
    "                                    overlap=track_overlap_p/100, #Minimum percentage overlap should be [float between 0 and 1.0]\n",
    "                                    overlap_by=\"smallest\") #how overlap should be calculated [\"union\", \"next\", \"smallest\"]\n",
    "    \n",
    "    outfile=f\"{outpath}/ERA5_2PVU_tracked_p{track_overlap_p}_{contour_level}K_overturnings_6hrly_{sdt.strftime('%Y%m')}-{edt.strftime('%Y%m')}.geojson\"\n",
    "    gpd.GeoDataFrame(tracked, geometry=tracked.geometry).to_file(outfile, driver='GeoJSON') "
   ]
  },
  {
   "cell_type": "markdown",
   "id": "9659a93d-bf1d-4568-8b69-03ba3a077027",
   "metadata": {},
   "source": [
    "Print out an example of the data. Track IDs are located in the column \"label\""
   ]
  },
  {
   "cell_type": "code",
   "execution_count": 9,
   "id": "3840b843-ff50-44f1-b2cf-83255c369a22",
   "metadata": {},
   "outputs": [
    {
     "name": "stdout",
     "output_type": "stream",
     "text": [
      "                 date  level   mean_var  intensity  west_lat  east_lat  \\\n",
      "0 1980-01-01 00:00:00  330.0  330.22000        0.0    -52.50    -41.50   \n",
      "3 1980-01-01 06:00:00  330.0  329.95999        0.0    -51.00    -43.00   \n",
      "5 1980-01-01 12:00:00  330.0  328.38000        0.0    -49.50    -43.25   \n",
      "7 1980-01-01 18:00:00  330.0  328.72000        0.0    -48.75    -42.00   \n",
      "1 1980-01-01 00:00:00  330.0  329.23999        0.0    -36.50    -51.50   \n",
      "\n",
      "   event_area   orientation   comX   comY  \\\n",
      "0  2876528.80  anticyclonic -53.75 -43.00   \n",
      "3  2684390.80  anticyclonic -52.25 -41.75   \n",
      "5  2466035.20  anticyclonic -50.00 -41.00   \n",
      "7  2269870.00  anticyclonic -48.00 -41.00   \n",
      "1   720305.81      cyclonic  57.25 -43.75   \n",
      "\n",
      "                                            geometry  label  \n",
      "0  POLYGON ((-45.5 -53, -45.5 -34, -61.75 -34, -6...      0  \n",
      "3  POLYGON ((-45 -52, -45 -32.25, -59.25 -32.25, ...      0  \n",
      "5  POLYGON ((-43.25 -51, -43.25 -31.75, -56.5 -31...      0  \n",
      "7  POLYGON ((-41.75 -50.75, -41.75 -32, -54.25 -3...      0  \n",
      "1  POLYGON ((59.75 -51.5, 59.75 -36.5, 54.75 -36....      1  \n"
     ]
    }
   ],
   "source": [
    "print(tracked.head())"
   ]
  },
  {
   "cell_type": "markdown",
   "id": "7298b459-1837-42d7-9dc4-48f667d717eb",
   "metadata": {},
   "source": [
    "Plot the climatology of the tracked objects using clim_xarray"
   ]
  },
  {
   "cell_type": "code",
   "execution_count": 10,
   "id": "116c5ee5-8e51-40c9-9394-06250dcb716b",
   "metadata": {},
   "outputs": [],
   "source": [
    "from wavebreaking.processing.events import to_xarray,clim_xarray"
   ]
  },
  {
   "cell_type": "code",
   "execution_count": 11,
   "id": "6e75fd24-39a8-482f-b2ff-cfe1d7610eb9",
   "metadata": {},
   "outputs": [],
   "source": [
    "# Load the grid one which overturning was detected. NOTE: Requires a time dimension to operate\n",
    "ptfile = get_GADI_ERA5_filename('pt',datetime(1979,1,1),stream='hourly',level_type='potential-vorticity')\n",
    "f_pt = xr.open_dataset(ptfile).resample(time='6H').nearest().pt#.isel(time=slice(0,1))"
   ]
  },
  {
   "cell_type": "code",
   "execution_count": 12,
   "id": "36791d1f-0a12-45de-b105-e5de3df4d57d",
   "metadata": {},
   "outputs": [
    {
     "data": {
      "text/plain": [
       "<matplotlib.contour.QuadContourSet at 0x1476d63ec6d0>"
      ]
     },
     "execution_count": 12,
     "metadata": {},
     "output_type": "execute_result"
    },
    {
     "data": {
      "image/png": "[encoded data removed]",
      "text/plain": [
       "<Figure size 640x480 with 2 Axes>"
      ]
     },
     "metadata": {},
     "output_type": "display_data"
    }
   ],
   "source": [
    "#Plot the wave breaking zones. \n",
    "#clim_xarray converts all of the RWB zone polygons to a given xarray grid and produces a 2D count \n",
    "#of all grid points on which RWB is located\n",
    "data_flagged = clim_xarray(f_pt,tracked)\n",
    "data_flagged.plot.contourf(cmap='Blues')"
   ]
  },
  {
   "cell_type": "code",
   "execution_count": 13,
   "id": "83d70bfa-ec7d-4605-9ec2-09f906d5a475",
   "metadata": {},
   "outputs": [
    {
     "data": {
      "text/plain": [
       "<matplotlib.contour.QuadContourSet at 0x1476d50c4dd0>"
      ]
     },
     "execution_count": 13,
     "metadata": {},
     "output_type": "execute_result"
    },
    {
     "data": {
      "image/png": "[encoded data removed]",
      "text/plain": [
       "<Figure size 640x480 with 2 Axes>"
      ]
     },
     "metadata": {},
     "output_type": "display_data"
    }
   ],
   "source": [
    "#Plot the anticyclonic wave breaking zones\n",
    "data_flagged = clim_xarray(f_pt,tracked[tracked.orientation=='anticyclonic'])\n",
    "data_flagged.plot.contourf(cmap='Blues')"
   ]
  },
  {
   "cell_type": "code",
   "execution_count": 14,
   "id": "06726fd3-4035-4f86-9b04-fa41cf4072a8",
   "metadata": {},
   "outputs": [
    {
     "name": "stderr",
     "output_type": "stream",
     "text": [
      "152it [00:00, 19477.99it/s]\n"
     ]
    },
    {
     "data": {
      "text/plain": [
       "<matplotlib.contour.QuadContourSet at 0x1476d618f8d0>"
      ]
     },
     "execution_count": 14,
     "metadata": {},
     "output_type": "execute_result"
    },
    {
     "data": {
      "image/png": "[encoded data removed]",
      "text/plain": [
       "<Figure size 640x480 with 2 Axes>"
      ]
     },
     "metadata": {},
     "output_type": "display_data"
    }
   ],
   "source": [
    "#Plot the wave breaking zones whose tracks are at least 24 hours long\n",
    "#First select all the tracks where there are at least 4 overturnings in a track (given it is 6 hourly data)\n",
    "tracked_daily=tracked.groupby(['label']).agg(pd.Series.tolist)\n",
    "tracked_daily['N']=[len(row.date) for index,row in tqdm(tracked_daily.iterrows())]\n",
    "tracked_daily=tracked_daily[tracked_daily.N>=4]\n",
    "daily_labels=tracked_daily.index.tolist()\n",
    "tracked_daily=tracked[tracked.label.isin(daily_labels)]\n",
    "\n",
    "#Produce the flagged xarray and plot\n",
    "data_flagged = clim_xarray(f_pt,tracked_daily)\n",
    "data_flagged.plot.contourf(cmap='Blues')"
   ]
  }
 ],
 "metadata": {
  "kernelspec": {
   "display_name": "Python [conda env:analysis3-25.04] *",
   "language": "python",
   "name": "conda-env-analysis3-25.04-py"
  },
  "language_info": {
   "codemirror_mode": {
    "name": "ipython",
    "version": 3
   },
   "file_extension": ".py",
   "mimetype": "text/x-python",
   "name": "python",
   "nbconvert_exporter": "python",
   "pygments_lexer": "ipython3",
   "version": "3.11.12"
  }
 },
 "nbformat": 4,
 "nbformat_minor": 5
}
